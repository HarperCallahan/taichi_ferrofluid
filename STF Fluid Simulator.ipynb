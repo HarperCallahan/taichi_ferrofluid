{
 "cells": [
  {
   "cell_type": "code",
   "execution_count": 1,
   "id": "fecf0075",
   "metadata": {},
   "outputs": [
    {
     "name": "stdout",
     "output_type": "stream",
     "text": [
      "[Taichi] mode=release\n",
      "[Taichi] version 0.7.21, llvm 10.0.0, commit 15465fb6, win, python 3.9.5\n",
      "[TaiGLSL] version 0.0.11\n"
     ]
    }
   ],
   "source": [
    "%run utils.py\n"
   ]
  },
  {
   "cell_type": "code",
   "execution_count": 2,
   "id": "6231a96a",
   "metadata": {},
   "outputs": [],
   "source": [
    "%run mgpcg.py"
   ]
  },
  {
   "cell_type": "code",
   "execution_count": 3,
   "id": "cd130ea4",
   "metadata": {
    "scrolled": true
   },
   "outputs": [],
   "source": [
    "%run pressure_project.py\n"
   ]
  },
  {
   "cell_type": "code",
   "execution_count": 4,
   "id": "e365c663",
   "metadata": {},
   "outputs": [],
   "source": [
    "%run volume_control.py"
   ]
  },
  {
   "cell_type": "code",
   "execution_count": 5,
   "id": "920032e4",
   "metadata": {},
   "outputs": [],
   "source": [
    "%run level_set.py"
   ]
  },
  {
   "cell_type": "code",
   "execution_count": 6,
   "id": "b2d83206",
   "metadata": {},
   "outputs": [],
   "source": [
    "%run surface_tension.py"
   ]
  },
  {
   "cell_type": "code",
   "execution_count": 1,
   "id": "571add29",
   "metadata": {},
   "outputs": [
    {
     "name": "stdout",
     "output_type": "stream",
     "text": [
      "[Taichi] mode=release\n",
      "[Taichi] version 0.7.21, llvm 10.0.0, commit 15465fb6, win, python 3.9.5\n",
      "[TaiGLSL] version 0.0.11\n",
      "[Taichi] Starting on arch=cuda\n"
     ]
    }
   ],
   "source": [
    "%run fluid_simulator.py"
   ]
  },
  {
   "cell_type": "code",
   "execution_count": 8,
   "id": "752f4187",
   "metadata": {},
   "outputs": [
    {
     "name": "stdout",
     "output_type": "stream",
     "text": [
      "[Taichi] Starting on arch=x64\n"
     ]
    }
   ],
   "source": [
    "%run apic_extension"
   ]
  },
  {
   "cell_type": "code",
   "execution_count": 9,
   "id": "24207c1a",
   "metadata": {},
   "outputs": [],
   "source": [
    "%run initializer_3d.py\n"
   ]
  },
  {
   "cell_type": "code",
   "execution_count": 10,
   "id": "f7955feb",
   "metadata": {},
   "outputs": [],
   "source": [
    "%run visualizer_3d.py"
   ]
  },
  {
   "cell_type": "code",
   "execution_count": 2,
   "id": "d105883b",
   "metadata": {
    "scrolled": true
   },
   "outputs": [
    {
     "name": "stdout",
     "output_type": "stream",
     "text": [
      "[Taichi] Starting on arch=x64\n",
      "[Taichi] materializing...\n",
      "Current progress: (0 / -1)\n",
      "init rtr = 43.91701889038086\n",
      "iter 0, |residual|_2=9.225158739662568\n",
      "iter 1, |residual|_2=6.322141931907076\n",
      "iter 2, |residual|_2=3.4246497204835142\n",
      "iter 3, |residual|_2=1.6745186697738377\n",
      "iter 4, |residual|_2=0.6929657584451572\n",
      "iter 5, |residual|_2=0.3367242029372512\n",
      "iter 6, |residual|_2=0.1572080743475209\n",
      "iter 7, |residual|_2=0.06645108210246431\n",
      "iter 8, |residual|_2=0.03196538952115969\n",
      "iter 9, |residual|_2=0.017318619715161156\n",
      "iter 10, |residual|_2=0.00963936447601696\n",
      "iter 11, |residual|_2=0.0037796822719584756\n",
      "iter 12, |residual|_2=0.0014546805154452547\n",
      "iter 13, |residual|_2=0.0007033757020085844\n",
      "iter 14, |residual|_2=0.0003821126727570215\n",
      "iter 15, |residual|_2=0.0002020994255748624\n",
      "iter 16, |residual|_2=8.97053814797098e-05\n",
      "iter 17, |residual|_2=4.053143099516154e-05\n",
      "iter 18, |residual|_2=1.6127334591389788e-05\n",
      "iter 19, |residual|_2=7.007352003220467e-06\n",
      "iter 20, |residual|_2=3.198759946467691e-06\n",
      "\u001b[33minit cost 2.513838100000001s, solve cost 3.8892567000000042s\u001b[0m\n",
      "\u001b[36mMax pressure: 22800.42578125\u001b[0m\n",
      "init rtr = nan\n",
      "iter 0, |residual|_2=nan\n",
      "iter 1, |residual|_2=nan\n",
      "iter 2, |residual|_2=nan\n",
      "iter 3, |residual|_2=nan\n",
      "iter 4, |residual|_2=nan\n",
      "iter 5, |residual|_2=nan\n",
      "iter 6, |residual|_2=nan\n",
      "iter 7, |residual|_2=nan\n",
      "iter 8, |residual|_2=nan\n",
      "iter 9, |residual|_2=nan\n",
      "iter 10, |residual|_2=nan\n",
      "iter 11, |residual|_2=nan\n",
      "iter 12, |residual|_2=nan\n",
      "iter 13, |residual|_2=nan\n",
      "iter 14, |residual|_2=nan\n",
      "iter 15, |residual|_2=nan\n",
      "iter 16, |residual|_2=nan\n",
      "iter 17, |residual|_2=nan\n",
      "iter 18, |residual|_2=nan\n",
      "iter 19, |residual|_2=nan\n",
      "iter 20, |residual|_2=nan\n",
      "iter 21, |residual|_2=nan\n",
      "iter 22, |residual|_2=nan\n",
      "iter 23, |residual|_2=nan\n",
      "iter 24, |residual|_2=nan\n",
      "iter 25, |residual|_2=nan\n",
      "iter 26, |residual|_2=nan\n",
      "iter 27, |residual|_2=nan\n",
      "iter 28, |residual|_2=nan\n",
      "iter 29, |residual|_2=nan\n",
      "iter 30, |residual|_2=nan\n",
      "iter 31, |residual|_2=nan\n",
      "iter 32, |residual|_2=nan\n",
      "iter 33, |residual|_2=nan\n",
      "iter 34, |residual|_2=nan\n",
      "iter 35, |residual|_2=nan\n",
      "iter 36, |residual|_2=nan\n",
      "iter 37, |residual|_2=nan\n",
      "iter 38, |residual|_2=nan\n",
      "iter 39, |residual|_2=nan\n",
      "iter 40, |residual|_2=nan\n",
      "iter 41, |residual|_2=nan\n",
      "iter 42, |residual|_2=nan\n",
      "iter 43, |residual|_2=nan\n",
      "iter 44, |residual|_2=nan\n",
      "iter 45, |residual|_2=nan\n",
      "iter 46, |residual|_2=nan\n",
      "iter 47, |residual|_2=nan\n",
      "iter 48, |residual|_2=nan\n",
      "iter 49, |residual|_2=nan\n",
      "iter 50, |residual|_2=nan\n",
      "iter 51, |residual|_2=nan\n",
      "iter 52, |residual|_2=nan\n",
      "iter 53, |residual|_2=nan\n",
      "iter 54, |residual|_2=nan\n",
      "iter 55, |residual|_2=nan\n",
      "iter 56, |residual|_2=nan\n",
      "iter 57, |residual|_2=nan\n",
      "iter 58, |residual|_2=nan\n",
      "iter 59, |residual|_2=nan\n",
      "iter 60, |residual|_2=nan\n",
      "iter 61, |residual|_2=nan\n",
      "iter 62, |residual|_2=nan\n",
      "iter 63, |residual|_2=nan\n",
      "iter 64, |residual|_2=nan\n",
      "iter 65, |residual|_2=nan\n",
      "iter 66, |residual|_2=nan\n",
      "iter 67, |residual|_2=nan\n",
      "iter 68, |residual|_2=nan\n",
      "iter 69, |residual|_2=nan\n",
      "iter 70, |residual|_2=nan\n",
      "iter 71, |residual|_2=nan\n",
      "iter 72, |residual|_2=nan\n",
      "iter 73, |residual|_2=nan\n",
      "iter 74, |residual|_2=nan\n",
      "iter 75, |residual|_2=nan\n",
      "iter 76, |residual|_2=nan\n",
      "iter 77, |residual|_2=nan\n",
      "iter 78, |residual|_2=nan\n",
      "iter 79, |residual|_2=nan\n",
      "iter 80, |residual|_2=nan\n",
      "iter 81, |residual|_2=nan\n",
      "iter 82, |residual|_2=nan\n",
      "iter 83, |residual|_2=nan\n",
      "iter 84, |residual|_2=nan\n",
      "iter 85, |residual|_2=nan\n",
      "iter 86, |residual|_2=nan\n",
      "iter 87, |residual|_2=nan\n",
      "iter 88, |residual|_2=nan\n",
      "iter 89, |residual|_2=nan\n",
      "iter 90, |residual|_2=nan\n",
      "iter 91, |residual|_2=nan\n",
      "iter 92, |residual|_2=nan\n",
      "iter 93, |residual|_2=nan\n",
      "iter 94, |residual|_2=nan\n",
      "iter 95, |residual|_2=nan\n",
      "iter 96, |residual|_2=nan\n",
      "iter 97, |residual|_2=nan\n",
      "iter 98, |residual|_2=nan\n",
      "iter 99, |residual|_2=nan\n",
      "iter 100, |residual|_2=nan\n",
      "iter 101, |residual|_2=nan\n",
      "iter 102, |residual|_2=nan\n",
      "iter 103, |residual|_2=nan\n",
      "iter 104, |residual|_2=nan\n",
      "iter 105, |residual|_2=nan\n",
      "iter 106, |residual|_2=nan\n",
      "iter 107, |residual|_2=nan\n",
      "iter 108, |residual|_2=nan\n",
      "iter 109, |residual|_2=nan\n",
      "iter 110, |residual|_2=nan\n",
      "iter 111, |residual|_2=nan\n",
      "iter 112, |residual|_2=nan\n",
      "iter 113, |residual|_2=nan\n",
      "iter 114, |residual|_2=nan\n",
      "iter 115, |residual|_2=nan\n",
      "iter 116, |residual|_2=nan\n",
      "iter 117, |residual|_2=nan\n",
      "iter 118, |residual|_2=nan\n",
      "iter 119, |residual|_2=nan\n",
      "iter 120, |residual|_2=nan\n",
      "iter 121, |residual|_2=nan\n",
      "iter 122, |residual|_2=nan\n",
      "iter 123, |residual|_2=nan\n",
      "iter 124, |residual|_2=nan\n",
      "iter 125, |residual|_2=nan\n",
      "iter 126, |residual|_2=nan\n",
      "iter 127, |residual|_2=nan\n",
      "iter 128, |residual|_2=nan\n",
      "iter 129, |residual|_2=nan\n",
      "iter 130, |residual|_2=nan\n",
      "iter 131, |residual|_2=nan\n",
      "iter 132, |residual|_2=nan\n",
      "iter 133, |residual|_2=nan\n",
      "iter 134, |residual|_2=nan\n",
      "iter 135, |residual|_2=nan\n",
      "iter 136, |residual|_2=nan\n",
      "iter 137, |residual|_2=nan\n",
      "iter 138, |residual|_2=nan\n",
      "iter 139, |residual|_2=nan\n",
      "iter 140, |residual|_2=nan\n",
      "iter 141, |residual|_2=nan\n",
      "iter 142, |residual|_2=nan\n",
      "iter 143, |residual|_2=nan\n",
      "iter 144, |residual|_2=nan\n",
      "iter 145, |residual|_2=nan\n",
      "iter 146, |residual|_2=nan\n",
      "iter 147, |residual|_2=nan\n",
      "iter 148, |residual|_2=nan\n",
      "iter 149, |residual|_2=nan\n",
      "iter 150, |residual|_2=nan\n",
      "iter 151, |residual|_2=nan\n",
      "iter 152, |residual|_2=nan\n",
      "iter 153, |residual|_2=nan\n",
      "iter 154, |residual|_2=nan\n",
      "iter 155, |residual|_2=nan\n",
      "iter 156, |residual|_2=nan\n",
      "iter 157, |residual|_2=nan\n",
      "iter 158, |residual|_2=nan\n"
     ]
    },
    {
     "ename": "KeyboardInterrupt",
     "evalue": "",
     "output_type": "error",
     "traceback": [
      "\u001b[1;31m---------------------------------------------------------------------------\u001b[0m",
      "\u001b[1;31mKeyboardInterrupt\u001b[0m                         Traceback (most recent call last)",
      "\u001b[1;32m<ipython-input-2-3428ffa026e0>\u001b[0m in \u001b[0;36m<module>\u001b[1;34m\u001b[0m\n\u001b[0;32m     10\u001b[0m     \u001b[0mvisualizer\u001b[0m \u001b[1;33m=\u001b[0m \u001b[0mVisualizer3D\u001b[0m\u001b[1;33m(\u001b[0m\u001b[1;33m)\u001b[0m\u001b[1;33m\u001b[0m\u001b[1;33m\u001b[0m\u001b[0m\n\u001b[0;32m     11\u001b[0m     \u001b[0msolver\u001b[0m\u001b[1;33m.\u001b[0m\u001b[0minitialize\u001b[0m\u001b[1;33m(\u001b[0m\u001b[0minitializer\u001b[0m\u001b[1;33m)\u001b[0m\u001b[1;33m\u001b[0m\u001b[1;33m\u001b[0m\u001b[0m\n\u001b[1;32m---> 12\u001b[1;33m     \u001b[0msolver\u001b[0m\u001b[1;33m.\u001b[0m\u001b[0mrun\u001b[0m\u001b[1;33m(\u001b[0m\u001b[1;33m-\u001b[0m\u001b[1;36m1\u001b[0m\u001b[1;33m,\u001b[0m \u001b[0mvisualizer\u001b[0m\u001b[1;33m)\u001b[0m\u001b[1;33m\u001b[0m\u001b[1;33m\u001b[0m\u001b[0m\n\u001b[0m\u001b[0;32m     13\u001b[0m \u001b[0mgui\u001b[0m \u001b[1;33m=\u001b[0m \u001b[0mti\u001b[0m\u001b[1;33m.\u001b[0m\u001b[0mGUI\u001b[0m\u001b[1;33m(\u001b[0m\u001b[1;34m'Window Title'\u001b[0m\u001b[1;33m,\u001b[0m \u001b[1;33m(\u001b[0m\u001b[1;36m640\u001b[0m\u001b[1;33m,\u001b[0m \u001b[1;36m360\u001b[0m\u001b[1;33m)\u001b[0m\u001b[1;33m,\u001b[0m \u001b[0mshow_gui\u001b[0m\u001b[1;33m=\u001b[0m\u001b[1;32mTrue\u001b[0m\u001b[1;33m)\u001b[0m\u001b[1;33m\u001b[0m\u001b[1;33m\u001b[0m\u001b[0m\n\u001b[0;32m     14\u001b[0m     \u001b[1;31m# ti.kernel_profiler_print()\u001b[0m\u001b[1;33m\u001b[0m\u001b[1;33m\u001b[0m\u001b[1;33m\u001b[0m\u001b[0m\n",
      "\u001b[1;32m~\\Documents\\GitHub\\taichi_ferrofluid\\fluid_simulator.py\u001b[0m in \u001b[0;36mrun\u001b[1;34m(self, max_steps, visualizer, verbose)\u001b[0m\n\u001b[0;32m    351\u001b[0m             \u001b[0mprint\u001b[0m\u001b[1;33m(\u001b[0m\u001b[1;34mf'Current progress: ({step} / {max_steps})'\u001b[0m\u001b[1;33m)\u001b[0m\u001b[1;33m\u001b[0m\u001b[1;33m\u001b[0m\u001b[0m\n\u001b[0;32m    352\u001b[0m             \u001b[1;32mfor\u001b[0m \u001b[0msubstep\u001b[0m \u001b[1;32min\u001b[0m \u001b[0mrange\u001b[0m\u001b[1;33m(\u001b[0m\u001b[0mself\u001b[0m\u001b[1;33m.\u001b[0m\u001b[0msubsteps\u001b[0m\u001b[1;33m)\u001b[0m\u001b[1;33m:\u001b[0m\u001b[1;33m\u001b[0m\u001b[1;33m\u001b[0m\u001b[0m\n\u001b[1;32m--> 353\u001b[1;33m                 \u001b[0mself\u001b[0m\u001b[1;33m.\u001b[0m\u001b[0msubstep\u001b[0m\u001b[1;33m(\u001b[0m\u001b[0mself\u001b[0m\u001b[1;33m.\u001b[0m\u001b[0mdt\u001b[0m\u001b[1;33m)\u001b[0m\u001b[1;33m\u001b[0m\u001b[1;33m\u001b[0m\u001b[0m\n\u001b[0m\u001b[0;32m    354\u001b[0m             \u001b[0mvisualizer\u001b[0m\u001b[1;33m.\u001b[0m\u001b[0mvisualize\u001b[0m\u001b[1;33m(\u001b[0m\u001b[0mself\u001b[0m\u001b[1;33m)\u001b[0m\u001b[1;33m\u001b[0m\u001b[1;33m\u001b[0m\u001b[0m\n\u001b[0;32m    355\u001b[0m             \u001b[0mstep\u001b[0m \u001b[1;33m+=\u001b[0m \u001b[1;36m1\u001b[0m\u001b[1;33m\u001b[0m\u001b[1;33m\u001b[0m\u001b[0m\n",
      "\u001b[1;32m~\\Documents\\GitHub\\taichi_ferrofluid\\apic_extension.py\u001b[0m in \u001b[0;36msubstep\u001b[1;34m(self, dt)\u001b[0m\n\u001b[0;32m     81\u001b[0m         \u001b[0mself\u001b[0m\u001b[1;33m.\u001b[0m\u001b[0menforce_boundary\u001b[0m\u001b[1;33m(\u001b[0m\u001b[1;33m)\u001b[0m\u001b[1;33m\u001b[0m\u001b[1;33m\u001b[0m\u001b[0m\n\u001b[0;32m     82\u001b[0m \u001b[1;33m\u001b[0m\u001b[0m\n\u001b[1;32m---> 83\u001b[1;33m         \u001b[0mself\u001b[0m\u001b[1;33m.\u001b[0m\u001b[0msolve_pressure\u001b[0m\u001b[1;33m(\u001b[0m\u001b[0mdt\u001b[0m\u001b[1;33m,\u001b[0m \u001b[0mself\u001b[0m\u001b[1;33m.\u001b[0m\u001b[0mstrategy\u001b[0m\u001b[1;33m)\u001b[0m\u001b[1;33m\u001b[0m\u001b[1;33m\u001b[0m\u001b[0m\n\u001b[0m\u001b[0;32m     84\u001b[0m \u001b[1;33m\u001b[0m\u001b[0m\n\u001b[0;32m     85\u001b[0m         \u001b[1;32mif\u001b[0m \u001b[0mself\u001b[0m\u001b[1;33m.\u001b[0m\u001b[0mverbose\u001b[0m\u001b[1;33m:\u001b[0m\u001b[1;33m\u001b[0m\u001b[1;33m\u001b[0m\u001b[0m\n",
      "\u001b[1;32m~\\Documents\\GitHub\\taichi_ferrofluid\\fluid_simulator.py\u001b[0m in \u001b[0;36msolve_pressure\u001b[1;34m(self, dt, strategy)\u001b[0m\n\u001b[0;32m    184\u001b[0m \u001b[1;33m\u001b[0m\u001b[0m\n\u001b[0;32m    185\u001b[0m         \u001b[0mstart2\u001b[0m \u001b[1;33m=\u001b[0m \u001b[0mtime\u001b[0m\u001b[1;33m.\u001b[0m\u001b[0mperf_counter\u001b[0m\u001b[1;33m(\u001b[0m\u001b[1;33m)\u001b[0m\u001b[1;33m\u001b[0m\u001b[1;33m\u001b[0m\u001b[0m\n\u001b[1;32m--> 186\u001b[1;33m         \u001b[0mself\u001b[0m\u001b[1;33m.\u001b[0m\u001b[0mpoisson_solver\u001b[0m\u001b[1;33m.\u001b[0m\u001b[0msolve\u001b[0m\u001b[1;33m(\u001b[0m\u001b[0mself\u001b[0m\u001b[1;33m.\u001b[0m\u001b[0miterations\u001b[0m\u001b[1;33m,\u001b[0m \u001b[0mself\u001b[0m\u001b[1;33m.\u001b[0m\u001b[0mverbose\u001b[0m\u001b[1;33m)\u001b[0m\u001b[1;33m\u001b[0m\u001b[1;33m\u001b[0m\u001b[0m\n\u001b[0m\u001b[0;32m    187\u001b[0m         \u001b[0mend2\u001b[0m \u001b[1;33m=\u001b[0m \u001b[0mtime\u001b[0m\u001b[1;33m.\u001b[0m\u001b[0mperf_counter\u001b[0m\u001b[1;33m(\u001b[0m\u001b[1;33m)\u001b[0m\u001b[1;33m\u001b[0m\u001b[1;33m\u001b[0m\u001b[0m\n\u001b[0;32m    188\u001b[0m \u001b[1;33m\u001b[0m\u001b[0m\n",
      "\u001b[1;32m~\\Documents\\GitHub\\taichi_ferrofluid\\mgpcg.py\u001b[0m in \u001b[0;36msolve\u001b[1;34m(self, max_iters, verbose, rel_tol, abs_tol, eps)\u001b[0m\n\u001b[0;32m    196\u001b[0m \u001b[1;33m\u001b[0m\u001b[0m\n\u001b[0;32m    197\u001b[0m             \u001b[1;31m# self.z = M^-1 self.r\u001b[0m\u001b[1;33m\u001b[0m\u001b[1;33m\u001b[0m\u001b[1;33m\u001b[0m\u001b[0m\n\u001b[1;32m--> 198\u001b[1;33m             \u001b[0mself\u001b[0m\u001b[1;33m.\u001b[0m\u001b[0mv_cycle\u001b[0m\u001b[1;33m(\u001b[0m\u001b[1;33m)\u001b[0m\u001b[1;33m\u001b[0m\u001b[1;33m\u001b[0m\u001b[0m\n\u001b[0m\u001b[0;32m    199\u001b[0m \u001b[1;33m\u001b[0m\u001b[0m\n\u001b[0;32m    200\u001b[0m             \u001b[1;31m# self.beta = new_rTr / old_rTr\u001b[0m\u001b[1;33m\u001b[0m\u001b[1;33m\u001b[0m\u001b[1;33m\u001b[0m\u001b[0m\n",
      "\u001b[1;32m~\\Documents\\GitHub\\taichi_ferrofluid\\mgpcg.py\u001b[0m in \u001b[0;36mv_cycle\u001b[1;34m(self)\u001b[0m\n\u001b[0;32m    145\u001b[0m             \u001b[0mself\u001b[0m\u001b[1;33m.\u001b[0m\u001b[0mprolongate\u001b[0m\u001b[1;33m(\u001b[0m\u001b[0ml\u001b[0m\u001b[1;33m)\u001b[0m\u001b[1;33m\u001b[0m\u001b[1;33m\u001b[0m\u001b[0m\n\u001b[0;32m    146\u001b[0m             \u001b[1;32mfor\u001b[0m \u001b[0mi\u001b[0m \u001b[1;32min\u001b[0m \u001b[0mrange\u001b[0m\u001b[1;33m(\u001b[0m\u001b[0mself\u001b[0m\u001b[1;33m.\u001b[0m\u001b[0mpre_and_post_smoothing\u001b[0m\u001b[1;33m)\u001b[0m\u001b[1;33m:\u001b[0m\u001b[1;33m\u001b[0m\u001b[1;33m\u001b[0m\u001b[0m\n\u001b[1;32m--> 147\u001b[1;33m                 \u001b[0mself\u001b[0m\u001b[1;33m.\u001b[0m\u001b[0msmooth\u001b[0m\u001b[1;33m(\u001b[0m\u001b[0ml\u001b[0m\u001b[1;33m,\u001b[0m \u001b[1;36m1\u001b[0m\u001b[1;33m)\u001b[0m\u001b[1;33m\u001b[0m\u001b[1;33m\u001b[0m\u001b[0m\n\u001b[0m\u001b[0;32m    148\u001b[0m                 \u001b[0mself\u001b[0m\u001b[1;33m.\u001b[0m\u001b[0msmooth\u001b[0m\u001b[1;33m(\u001b[0m\u001b[0ml\u001b[0m\u001b[1;33m,\u001b[0m \u001b[1;36m0\u001b[0m\u001b[1;33m)\u001b[0m\u001b[1;33m\u001b[0m\u001b[1;33m\u001b[0m\u001b[0m\n\u001b[0;32m    149\u001b[0m \u001b[1;33m\u001b[0m\u001b[0m\n",
      "\u001b[1;32m~\\miniconda3\\lib\\site-packages\\taichi\\lang\\kernel_impl.py\u001b[0m in \u001b[0;36m__call__\u001b[1;34m(self, *args, **kwargs)\u001b[0m\n\u001b[0;32m    665\u001b[0m     \u001b[1;32mdef\u001b[0m \u001b[0m__call__\u001b[0m\u001b[1;33m(\u001b[0m\u001b[0mself\u001b[0m\u001b[1;33m,\u001b[0m \u001b[1;33m*\u001b[0m\u001b[0margs\u001b[0m\u001b[1;33m,\u001b[0m \u001b[1;33m**\u001b[0m\u001b[0mkwargs\u001b[0m\u001b[1;33m)\u001b[0m\u001b[1;33m:\u001b[0m\u001b[1;33m\u001b[0m\u001b[1;33m\u001b[0m\u001b[0m\n\u001b[0;32m    666\u001b[0m         \u001b[0m_taichi_skip_traceback\u001b[0m \u001b[1;33m=\u001b[0m \u001b[1;36m1\u001b[0m\u001b[1;33m\u001b[0m\u001b[1;33m\u001b[0m\u001b[0m\n\u001b[1;32m--> 667\u001b[1;33m         \u001b[1;32mreturn\u001b[0m \u001b[0mself\u001b[0m\u001b[1;33m.\u001b[0m\u001b[0m_primal\u001b[0m\u001b[1;33m(\u001b[0m\u001b[0mself\u001b[0m\u001b[1;33m.\u001b[0m\u001b[0m_kernel_owner\u001b[0m\u001b[1;33m,\u001b[0m \u001b[1;33m*\u001b[0m\u001b[0margs\u001b[0m\u001b[1;33m,\u001b[0m \u001b[1;33m**\u001b[0m\u001b[0mkwargs\u001b[0m\u001b[1;33m)\u001b[0m\u001b[1;33m\u001b[0m\u001b[1;33m\u001b[0m\u001b[0m\n\u001b[0m\u001b[0;32m    668\u001b[0m \u001b[1;33m\u001b[0m\u001b[0m\n\u001b[0;32m    669\u001b[0m     \u001b[1;32mdef\u001b[0m \u001b[0mgrad\u001b[0m\u001b[1;33m(\u001b[0m\u001b[0mself\u001b[0m\u001b[1;33m,\u001b[0m \u001b[1;33m*\u001b[0m\u001b[0margs\u001b[0m\u001b[1;33m,\u001b[0m \u001b[1;33m**\u001b[0m\u001b[0mkwargs\u001b[0m\u001b[1;33m)\u001b[0m\u001b[1;33m:\u001b[0m\u001b[1;33m\u001b[0m\u001b[1;33m\u001b[0m\u001b[0m\n",
      "\u001b[1;32m~\\miniconda3\\lib\\site-packages\\taichi\\lang\\shell.py\u001b[0m in \u001b[0;36mnew_call\u001b[1;34m(*args, **kwargs)\u001b[0m\n\u001b[0;32m     38\u001b[0m     \u001b[1;32mdef\u001b[0m \u001b[0mnew_call\u001b[0m\u001b[1;33m(\u001b[0m\u001b[1;33m*\u001b[0m\u001b[0margs\u001b[0m\u001b[1;33m,\u001b[0m \u001b[1;33m**\u001b[0m\u001b[0mkwargs\u001b[0m\u001b[1;33m)\u001b[0m\u001b[1;33m:\u001b[0m\u001b[1;33m\u001b[0m\u001b[1;33m\u001b[0m\u001b[0m\n\u001b[0;32m     39\u001b[0m         \u001b[0m_taichi_skip_traceback\u001b[0m \u001b[1;33m=\u001b[0m \u001b[1;36m1\u001b[0m\u001b[1;33m\u001b[0m\u001b[1;33m\u001b[0m\u001b[0m\n\u001b[1;32m---> 40\u001b[1;33m         \u001b[0mret\u001b[0m \u001b[1;33m=\u001b[0m \u001b[0mold_call\u001b[0m\u001b[1;33m(\u001b[0m\u001b[1;33m*\u001b[0m\u001b[0margs\u001b[0m\u001b[1;33m,\u001b[0m \u001b[1;33m**\u001b[0m\u001b[0mkwargs\u001b[0m\u001b[1;33m)\u001b[0m\u001b[1;33m\u001b[0m\u001b[1;33m\u001b[0m\u001b[0m\n\u001b[0m\u001b[0;32m     41\u001b[0m         \u001b[1;31m# print's in kernel won't take effect until ti.sync(), discussion:\u001b[0m\u001b[1;33m\u001b[0m\u001b[1;33m\u001b[0m\u001b[1;33m\u001b[0m\u001b[0m\n\u001b[0;32m     42\u001b[0m         \u001b[1;31m# https://github.com/taichi-dev/taichi/pull/1303#discussion_r444897102\u001b[0m\u001b[1;33m\u001b[0m\u001b[1;33m\u001b[0m\u001b[1;33m\u001b[0m\u001b[0m\n",
      "\u001b[1;32m~\\miniconda3\\lib\\site-packages\\taichi\\lang\\kernel_impl.py\u001b[0m in \u001b[0;36m__call__\u001b[1;34m(self, *args, **kwargs)\u001b[0m\n\u001b[0;32m    560\u001b[0m         \u001b[1;32massert\u001b[0m \u001b[0mlen\u001b[0m\u001b[1;33m(\u001b[0m\u001b[0mkwargs\u001b[0m\u001b[1;33m)\u001b[0m \u001b[1;33m==\u001b[0m \u001b[1;36m0\u001b[0m\u001b[1;33m,\u001b[0m \u001b[1;34m'kwargs not supported for Taichi kernels'\u001b[0m\u001b[1;33m\u001b[0m\u001b[1;33m\u001b[0m\u001b[0m\n\u001b[0;32m    561\u001b[0m         \u001b[0mkey\u001b[0m \u001b[1;33m=\u001b[0m \u001b[0mself\u001b[0m\u001b[1;33m.\u001b[0m\u001b[0mensure_compiled\u001b[0m\u001b[1;33m(\u001b[0m\u001b[1;33m*\u001b[0m\u001b[0margs\u001b[0m\u001b[1;33m)\u001b[0m\u001b[1;33m\u001b[0m\u001b[1;33m\u001b[0m\u001b[0m\n\u001b[1;32m--> 562\u001b[1;33m         \u001b[1;32mreturn\u001b[0m \u001b[0mself\u001b[0m\u001b[1;33m.\u001b[0m\u001b[0mcompiled_functions\u001b[0m\u001b[1;33m[\u001b[0m\u001b[0mkey\u001b[0m\u001b[1;33m]\u001b[0m\u001b[1;33m(\u001b[0m\u001b[1;33m*\u001b[0m\u001b[0margs\u001b[0m\u001b[1;33m)\u001b[0m\u001b[1;33m\u001b[0m\u001b[1;33m\u001b[0m\u001b[0m\n\u001b[0m\u001b[0;32m    563\u001b[0m \u001b[1;33m\u001b[0m\u001b[0m\n\u001b[0;32m    564\u001b[0m \u001b[1;33m\u001b[0m\u001b[0m\n",
      "\u001b[1;32m~\\miniconda3\\lib\\site-packages\\taichi\\lang\\kernel_impl.py\u001b[0m in \u001b[0;36mfunc__\u001b[1;34m(*args)\u001b[0m\n\u001b[0;32m    514\u001b[0m                 \u001b[0mself\u001b[0m\u001b[1;33m.\u001b[0m\u001b[0mruntime\u001b[0m\u001b[1;33m.\u001b[0m\u001b[0mtarget_tape\u001b[0m\u001b[1;33m.\u001b[0m\u001b[0minsert\u001b[0m\u001b[1;33m(\u001b[0m\u001b[0mself\u001b[0m\u001b[1;33m,\u001b[0m \u001b[0margs\u001b[0m\u001b[1;33m)\u001b[0m\u001b[1;33m\u001b[0m\u001b[1;33m\u001b[0m\u001b[0m\n\u001b[0;32m    515\u001b[0m \u001b[1;33m\u001b[0m\u001b[0m\n\u001b[1;32m--> 516\u001b[1;33m             \u001b[0mt_kernel\u001b[0m\u001b[1;33m(\u001b[0m\u001b[0mlaunch_ctx\u001b[0m\u001b[1;33m)\u001b[0m\u001b[1;33m\u001b[0m\u001b[1;33m\u001b[0m\u001b[0m\n\u001b[0m\u001b[0;32m    517\u001b[0m \u001b[1;33m\u001b[0m\u001b[0m\n\u001b[0;32m    518\u001b[0m             \u001b[0mret\u001b[0m \u001b[1;33m=\u001b[0m \u001b[1;32mNone\u001b[0m\u001b[1;33m\u001b[0m\u001b[1;33m\u001b[0m\u001b[0m\n",
      "\u001b[1;31mKeyboardInterrupt\u001b[0m: "
     ]
    }
   ],
   "source": [
    "import taichi as ti\n",
    "from apic_extension import *\n",
    "from initializer_3d import *\n",
    "from visualizer_3d import *\n",
    "\n",
    "if __name__ == '__main__':\n",
    "    res = 128\n",
    "    solver = APICSimulator(3, (res, res, res), 0.002, 100, 0.15625, 1e3, [0, -9.8, 0])\n",
    "    initializer = Initializer3D(res, 0.2, 0.0, 0.2, 0.6, 0.9, 0.6)\n",
    "    visualizer = Visualizer3D()\n",
    "    solver.initialize(initializer)\n",
    "    solver.run(-1, visualizer)\n",
    "gui = ti.GUI('Window Title', (640, 360), show_gui=True)\n",
    "    # ti.kernel_profiler_print()"
   ]
  },
  {
   "cell_type": "code",
   "execution_count": null,
   "id": "8fa1a10a",
   "metadata": {},
   "outputs": [],
   "source": []
  },
  {
   "cell_type": "code",
   "execution_count": null,
   "id": "e42d5777",
   "metadata": {},
   "outputs": [],
   "source": []
  }
 ],
 "metadata": {
  "kernelspec": {
   "display_name": "Python 3",
   "language": "python",
   "name": "python3"
  },
  "language_info": {
   "codemirror_mode": {
    "name": "ipython",
    "version": 3
   },
   "file_extension": ".py",
   "mimetype": "text/x-python",
   "name": "python",
   "nbconvert_exporter": "python",
   "pygments_lexer": "ipython3",
   "version": "3.9.5"
  }
 },
 "nbformat": 4,
 "nbformat_minor": 5
}
